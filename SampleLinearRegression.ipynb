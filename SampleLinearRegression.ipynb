{
 "cells": [
  {
   "cell_type": "code",
   "execution_count": 4,
   "metadata": {
    "collapsed": false
   },
   "outputs": [],
   "source": [
    "import tensorflow as tf\n",
    "import numpy as np\n"
   ]
  },
  {
   "cell_type": "code",
   "execution_count": 9,
   "metadata": {
    "collapsed": false
   },
   "outputs": [
    {
     "name": "stdout",
     "output_type": "stream",
     "text": [
      "(0, array([ 0.29858908], dtype=float32), array([ 0.26353359], dtype=float32))\n",
      "(20, array([ 0.1410581], dtype=float32), array([ 0.27789047], dtype=float32))\n",
      "(40, array([ 0.10996491], dtype=float32), array([ 0.29463395], dtype=float32))\n",
      "(60, array([ 0.10241852], dtype=float32), array([ 0.29869765], dtype=float32))\n",
      "(80, array([ 0.10058698], dtype=float32), array([ 0.29968393], dtype=float32))\n",
      "(100, array([ 0.10014246], dtype=float32), array([ 0.2999233], dtype=float32))\n",
      "(120, array([ 0.10003457], dtype=float32), array([ 0.29998139], dtype=float32))\n",
      "(140, array([ 0.10000837], dtype=float32), array([ 0.29999551], dtype=float32))\n",
      "(160, array([ 0.10000203], dtype=float32), array([ 0.29999891], dtype=float32))\n",
      "(180, array([ 0.10000052], dtype=float32), array([ 0.29999974], dtype=float32))\n",
      "(200, array([ 0.10000011], dtype=float32), array([ 0.29999995], dtype=float32))\n"
     ]
    }
   ],
   "source": [
    "# Create 100 phony x, y data points in NumPy, y = x * 0.1 + 0.3\n",
    "x_data = np.random.rand(100).astype(np.float32)\n",
    "y_data = x_data * 0.1 + 0.3\n",
    "\n",
    "# Try to find values for W and b that compute y_data = W * x_data + b\n",
    "# (We know that W should be 0.1 and b 0.3, but Tensorflow will\n",
    "# figure that out for us.)\n",
    "W = tf.Variable(tf.random_uniform([1], -1.0, 1.0))\n",
    "b = tf.Variable(tf.zeros([1]))\n",
    "y = W * x_data + b\n",
    "\n",
    "# Minimize the mean squared errors.\n",
    "loss = tf.reduce_mean(tf.square(y - y_data))\n",
    "optimizer = tf.train.GradientDescentOptimizer(0.5)\n",
    "train = optimizer.minimize(loss)\n",
    "\n",
    "# Before starting, initialize the variables.  We will 'run' this first.\n",
    "init = tf.initialize_all_variables()\n",
    "\n",
    "# Launch the graph.\n",
    "sess = tf.Session()\n",
    "sess.run(init)\n",
    "\n",
    "# Fit the line.\n",
    "for step in xrange(201):\n",
    "    sess.run(train)\n",
    "    if step % 20 == 0:\n",
    "        print(step, sess.run(W), sess.run(b))\n",
    "\n",
    "# Learns best fit is W: [0.1], b: [0.3]"
   ]
  },
  {
   "cell_type": "code",
   "execution_count": null,
   "metadata": {
    "collapsed": true
   },
   "outputs": [],
   "source": []
  }
 ],
 "metadata": {
  "kernelspec": {
   "display_name": "Python 2",
   "language": "python",
   "name": "python2"
  },
  "language_info": {
   "codemirror_mode": {
    "name": "ipython",
    "version": 2
   },
   "file_extension": ".py",
   "mimetype": "text/x-python",
   "name": "python",
   "nbconvert_exporter": "python",
   "pygments_lexer": "ipython2",
   "version": "2.7.6"
  }
 },
 "nbformat": 4,
 "nbformat_minor": 0
}
